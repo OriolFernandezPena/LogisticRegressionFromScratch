{
 "cells": [
  {
   "cell_type": "code",
   "execution_count": 445,
   "metadata": {},
   "outputs": [],
   "source": [
    "from math import exp\n",
    "import numpy as np\n",
    "\n",
    "class LogisticRegression():\n",
    "    def __init__(self, max_iter, n_variables, X, y):\n",
    "        super().__init__()\n",
    "        self.max_iter = max_iter\n",
    "        #We add 1 to the number of variables so we compute the bias term too.\n",
    "        self.n_variables = n_variables + 1\n",
    "        self.y = y\n",
    "        #We add a 1 on every array to compute theta_0\n",
    "        self.X = [] \n",
    "        for x in X:\n",
    "            self.X.append(np.append(np.array([1]),x))\n",
    "        self.X = np.array(self.X)\n",
    "        self.theta = np.zeros(self.n_variables)\n",
    "        \n",
    "    def sigma(self, t):\n",
    "        return 1/(1+exp(-t))\n",
    "    \n",
    "    #Derivative of logit cost function as expressed on page 139 of Hands-On Machine Learning\n",
    "    #with Scikit-Learn & TensorFlow by Aurélien Géron\n",
    "    \n",
    "    def DerCostFunction(self):\n",
    "        partial_theta = []\n",
    "        for i in range(self.n_variables):\n",
    "            valor = 0\n",
    "            for j in range(len(self.X)):\n",
    "                valor += (self.sigma(np.dot(self.X[j], self.theta)) - self.y[j])*self.X[j][i]\n",
    "            partial_theta.append(valor * (1/len(self.X)))\n",
    "        #print(\"Der theta:\", partial_theta)\n",
    "        return np.array(partial_theta)\n",
    "    \n",
    "    def train(self, eta = 0.01):\n",
    "        #We use Gradient Descent to compute the theta's.\n",
    "        for i in range(self.max_iter):\n",
    "            self.theta = self.theta - eta * self.DerCostFunction()\n",
    "            #print(\"Theta:\", self.theta)\n",
    "        return self.theta\n",
    "    \n",
    "    def Predict(self, v):\n",
    "        return sigma(self.theta[0] + np.dot(v, self.theta[1:]))\n",
    "    \n",
    "    def PredictAll(self):\n",
    "        probabilities = []\n",
    "        for i in range(len(self.X)):\n",
    "            probabilities.append([self.y[i], self.sigma(np.dot(self.theta, self.X[i]))])\n",
    "        return np.array(probabilities)"
   ]
  },
  {
   "cell_type": "code",
   "execution_count": 451,
   "metadata": {},
   "outputs": [],
   "source": [
    "from sklearn import datasets\n",
    "iris = datasets.load_iris()\n",
    "\n",
    "X_iris = iris.data\n",
    "y_iris = (iris.target == 2).astype(np.int)"
   ]
  },
  {
   "cell_type": "code",
   "execution_count": 454,
   "metadata": {},
   "outputs": [],
   "source": [
    "logit_iris = LogisticRegression(max_iter = 40, n_variables = 4, X = X_iris, y = y_iris)"
   ]
  },
  {
   "cell_type": "code",
   "execution_count": 461,
   "metadata": {},
   "outputs": [
    {
     "data": {
      "text/plain": [
       "array([-0.03250173, -0.09388055, -0.10789136,  0.10544563,  0.06630034])"
      ]
     },
     "execution_count": 461,
     "metadata": {},
     "output_type": "execute_result"
    }
   ],
   "source": [
    "logit_iris.train()"
   ]
  },
  {
   "cell_type": "code",
   "execution_count": 463,
   "metadata": {},
   "outputs": [],
   "source": [
    "probas = logit_iris.PredictAll()"
   ]
  },
  {
   "cell_type": "code",
   "execution_count": 464,
   "metadata": {},
   "outputs": [],
   "source": [
    "#We evaluate the performance of the regression\n",
    "import sklearn.metrics as metrics\n",
    "preds = probas[:,1]\n",
    "fpr, tpr, threshold = metrics.roc_curve(y_iris, preds)\n",
    "roc_auc = metrics.auc(fpr, tpr)"
   ]
  },
  {
   "cell_type": "code",
   "execution_count": 471,
   "metadata": {},
   "outputs": [
    {
     "name": "stdout",
     "output_type": "stream",
     "text": [
      "AUC: 0.9686, Gini: 0.9372\n"
     ]
    }
   ],
   "source": [
    "print(\"AUC: {:.4f}, Gini: {:.4f}\".format(roc_auc, 2*roc_auc -1))"
   ]
  },
  {
   "cell_type": "code",
   "execution_count": 472,
   "metadata": {},
   "outputs": [
    {
     "data": {
      "image/png": "[encoded data removed]",
      "text/plain": [
       "<Figure size 432x288 with 1 Axes>"
      ]
     },
     "metadata": {
      "needs_background": "light"
     },
     "output_type": "display_data"
    }
   ],
   "source": [
    "import matplotlib.pyplot as plt\n",
    "plt.title('Receiver Operating Characteristic')\n",
    "plt.plot(fpr, tpr, 'b', label = 'AUC = %0.4f' % roc_auc)\n",
    "plt.legend(loc = 'lower right')\n",
    "plt.plot([0, 1], [0, 1],'r--')\n",
    "plt.xlim([0, 1])\n",
    "plt.ylim([0, 1])\n",
    "plt.ylabel('True Positive Rate')\n",
    "plt.xlabel('False Positive Rate')\n",
    "plt.show()"
   ]
  },
  {
   "cell_type": "code",
   "execution_count": null,
   "metadata": {},
   "outputs": [],
   "source": []
  },
  {
   "cell_type": "code",
   "execution_count": null,
   "metadata": {},
   "outputs": [],
   "source": []
  }
 ],
 "metadata": {
  "kernelspec": {
   "display_name": "Python 3",
   "language": "python",
   "name": "python3"
  },
  "language_info": {
   "codemirror_mode": {
    "name": "ipython",
    "version": 3
   },
   "file_extension": ".py",
   "mimetype": "text/x-python",
   "name": "python",
   "nbconvert_exporter": "python",
   "pygments_lexer": "ipython3",
   "version": "3.7.4"
  }
 },
 "nbformat": 4,
 "nbformat_minor": 2
}

