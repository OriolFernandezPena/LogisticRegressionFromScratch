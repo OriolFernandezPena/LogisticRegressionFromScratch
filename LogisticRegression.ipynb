{
 "cells": [
  {
   "cell_type": "code",
   "execution_count": 1,
   "metadata": {},
   "outputs": [],
   "source": [
    "from math import exp\n",
    "import numpy as np\n",
    "\n",
    "class LogisticRegression():\n",
    "    def __init__(self, max_iter, n_variables, X, y, learning_rate = None, tolerance = None):\n",
    "        super().__init__()\n",
    "        self.max_iter = max_iter\n",
    "        #We add 1 to the number of variables so we compute the bias term too.\n",
    "        self.n_variables = n_variables + 1\n",
    "        self.y = y\n",
    "        #We add a 1 on every array to compute theta_0\n",
    "        self.X = [] \n",
    "        for x in X:\n",
    "            self.X.append(np.append(np.array([1]),x))\n",
    "        self.X = np.array(self.X)\n",
    "        self.theta = np.zeros(self.n_variables)\n",
    "        if learning_rate is None:\n",
    "            self.eta = 0.01\n",
    "        else:\n",
    "            self.eta = learning_rate\n",
    "        if tolerance is None:\n",
    "            self.tol = 0.6\n",
    "        else:\n",
    "            self.tol = tolerance\n",
    "        \n",
    "    def sigma(self, t):\n",
    "        return 1/(1+exp(-t))\n",
    "    \n",
    "    def CostFunction(self):\n",
    "        cost = 0\n",
    "        for k in range(len(self.X)):\n",
    "            cost += (self.y[k]*np.log(self.sigma(np.dot(self.theta, self.X[k])))) + ((1-self.y[k])*np.log(1-self.sigma(np.dot(self.theta, self.X[k]))))\n",
    "        return - cost/len(self.X)\n",
    "    \n",
    "    #Derivative of logit cost function as expressed on page 139 of Hands-On Machine Learning\n",
    "    #with Scikit-Learn & TensorFlow by Aurélien Géron\n",
    "    \n",
    "    def DerCostFunction(self):\n",
    "        partial_theta = []\n",
    "        for i in range(self.n_variables):\n",
    "            valor = 0\n",
    "            for j in range(len(self.X)):\n",
    "                valor += (self.sigma(np.dot(self.X[j], self.theta)) - self.y[j])*self.X[j][i]\n",
    "            partial_theta.append(valor * (1/len(self.X)))\n",
    "        #print(\"Der theta:\", partial_theta)\n",
    "        return np.array(partial_theta)        \n",
    "    \n",
    "    def fit(self, eta = 0.01):\n",
    "        #We use Gradient Descent to compute the theta's.\n",
    "        contador = 0\n",
    "        while True:\n",
    "            if contador >= 8:\n",
    "                theta_aux = self.theta\n",
    "            else:\n",
    "                theta_aux = np.ones(self.n_variables)\n",
    "                \n",
    "            self.theta = self.theta - self.eta * self.DerCostFunction()\n",
    "            contador += 1\n",
    "            convergence = (self.CostFunction() <= self.tol).astype(np.int)\n",
    "            if (contador >= self.max_iter or convergence == 1):\n",
    "                if convergence != 1:\n",
    "                    print(self.CostFunction())\n",
    "                    raise ValueError(\"Convergence criterion wasn't met.\")\n",
    "                print(\"Number of steps completed: {:}\".format(contador))\n",
    "                break\n",
    "        return self.theta\n",
    "    \n",
    "    def Predict(self, v):\n",
    "        return sigma(self.theta[0] + np.dot(v, self.theta[1:]))\n",
    "    \n",
    "    def PredictAll(self):\n",
    "        probabilities = []\n",
    "        for i in range(len(self.X)):\n",
    "            probabilities.append([self.y[i], self.sigma(np.dot(self.theta, self.X[i]))])\n",
    "        return np.array(probabilities)"
   ]
  },
  {
   "cell_type": "code",
   "execution_count": 2,
   "metadata": {},
   "outputs": [],
   "source": [
    "from sklearn import datasets\n",
    "iris = datasets.load_iris()\n",
    "\n",
    "X_iris = iris.data\n",
    "y_iris = (iris.target == 2).astype(np.int)"
   ]
  },
  {
   "cell_type": "code",
   "execution_count": 3,
   "metadata": {},
   "outputs": [],
   "source": [
    "logit_iris = LogisticRegression(max_iter = 100, n_variables = 4, X = X_iris, y = y_iris, tolerance = 0.435, learning_rate = 0.02)"
   ]
  },
  {
   "cell_type": "code",
   "execution_count": 4,
   "metadata": {},
   "outputs": [
    {
     "name": "stdout",
     "output_type": "stream",
     "text": [
      "Number of steps completed: 98\n"
     ]
    },
    {
     "data": {
      "text/plain": [
       "array([-0.10679794, -0.25587601, -0.33018768,  0.4377337 ,  0.27088284])"
      ]
     },
     "execution_count": 4,
     "metadata": {},
     "output_type": "execute_result"
    }
   ],
   "source": [
    "logit_iris.fit()"
   ]
  },
  {
   "cell_type": "code",
   "execution_count": 5,
   "metadata": {},
   "outputs": [],
   "source": [
    "probas = logit_iris.PredictAll()"
   ]
  },
  {
   "cell_type": "code",
   "execution_count": 6,
   "metadata": {},
   "outputs": [],
   "source": [
    "#We evaluate the performance of the regression\n",
    "import sklearn.metrics as metrics\n",
    "preds = probas[:,1]\n",
    "fpr, tpr, threshold = metrics.roc_curve(y_iris, preds)\n",
    "roc_auc = metrics.auc(fpr, tpr)"
   ]
  },
  {
   "cell_type": "code",
   "execution_count": 7,
   "metadata": {},
   "outputs": [
    {
     "name": "stdout",
     "output_type": "stream",
     "text": [
      "AUC: 0.9952, Gini: 0.9904\n"
     ]
    }
   ],
   "source": [
    "print(\"AUC: {:.4f}, Gini: {:.4f}\".format(roc_auc, 2*roc_auc -1))"
   ]
  },
  {
   "cell_type": "code",
   "execution_count": 9,
   "metadata": {},
   "outputs": [
    {
     "data": {
      "image/png": "[encoded data removed]",
      "text/plain": [
       "<Figure size 432x288 with 1 Axes>"
      ]
     },
     "metadata": {
      "needs_background": "light"
     },
     "output_type": "display_data"
    }
   ],
   "source": [
    "import matplotlib.pyplot as plt\n",
    "plt.title('Receiver Operating Characteristic')\n",
    "plt.plot(fpr, tpr, 'b', label = 'AUC = %0.4f' % roc_auc)\n",
    "plt.legend(loc = 'lower right')\n",
    "plt.plot([0, 1], [0, 1],'r--')\n",
    "plt.xlim([0, 1])\n",
    "plt.ylim([0, 1])\n",
    "plt.ylabel('True Positive Rate')\n",
    "plt.xlabel('False Positive Rate')\n",
    "plt.show()"
   ]
  },
  {
   "cell_type": "code",
   "execution_count": 10,
   "metadata": {},
   "outputs": [],
   "source": [
    "from sklearn.metrics import precision_recall_curve\n",
    "\n",
    "precisions, recalls, thresholds = precision_recall_curve(y_iris, preds)"
   ]
  },
  {
   "cell_type": "code",
   "execution_count": 11,
   "metadata": {},
   "outputs": [
    {
     "data": {
      "image/png": "[encoded data removed]",
      "text/plain": [
       "<Figure size 432x288 with 1 Axes>"
      ]
     },
     "metadata": {
      "needs_background": "light"
     },
     "output_type": "display_data"
    }
   ],
   "source": [
    "plt.title('Precision Recall Curve')\n",
    "plt.plot(recalls, precisions, 'b')\n",
    "plt.xlim([0, 1])\n",
    "plt.ylim([0, 1])\n",
    "plt.ylabel('Precision')\n",
    "plt.xlabel('Recall')\n",
    "plt.show()"
   ]
  },
  {
   "cell_type": "code",
   "execution_count": 12,
   "metadata": {},
   "outputs": [
    {
     "name": "stderr",
     "output_type": "stream",
     "text": [
      "/Users/oriol/Library/Python/3.7/lib/python/site-packages/sklearn/linear_model/logistic.py:432: FutureWarning: Default solver will be changed to 'lbfgs' in 0.22. Specify a solver to silence this warning.\n",
      "  FutureWarning)\n"
     ]
    },
    {
     "data": {
      "text/plain": [
       "LogisticRegression(C=1.0, class_weight=None, dual=False, fit_intercept=True,\n",
       "                   intercept_scaling=1, l1_ratio=None, max_iter=100,\n",
       "                   multi_class='warn', n_jobs=None, penalty='l2',\n",
       "                   random_state=None, solver='warn', tol=0.0001, verbose=0,\n",
       "                   warm_start=False)"
      ]
     },
     "execution_count": 12,
     "metadata": {},
     "output_type": "execute_result"
    }
   ],
   "source": [
    "from sklearn.linear_model import LogisticRegression as LogReg\n",
    "\n",
    "log_reg = LogReg(max_iter = 100)\n",
    "log_reg.fit(X_iris, y_iris)"
   ]
  },
  {
   "cell_type": "code",
   "execution_count": 13,
   "metadata": {},
   "outputs": [],
   "source": [
    "#We evaluate the performance of the regression\n",
    "import sklearn.metrics as metrics\n",
    "preds_sk = log_reg.predict_proba(X_iris)[:,1]\n",
    "fpr_sk, tpr_sk, threshold_sk = metrics.roc_curve(y_iris, preds_sk)\n",
    "roc_auc_sk = metrics.auc(fpr_sk, tpr_sk)"
   ]
  },
  {
   "cell_type": "code",
   "execution_count": 14,
   "metadata": {},
   "outputs": [
    {
     "name": "stdout",
     "output_type": "stream",
     "text": [
      "AUC: 0.9974, Gini: 0.9948\n"
     ]
    }
   ],
   "source": [
    "print(\"AUC: {:.4f}, Gini: {:.4f}\".format(roc_auc_sk, 2*roc_auc_sk -1))"
   ]
  },
  {
   "cell_type": "code",
   "execution_count": 15,
   "metadata": {},
   "outputs": [
    {
     "data": {
      "image/png": "[encoded data removed]",
      "text/plain": [
       "<Figure size 432x288 with 1 Axes>"
      ]
     },
     "metadata": {
      "needs_background": "light"
     },
     "output_type": "display_data"
    }
   ],
   "source": [
    "plt.title('Receiver Operating Characteristic')\n",
    "plt.plot(fpr_sk, tpr_sk, 'b', label = 'AUC = %0.4f' % roc_auc_sk)\n",
    "plt.legend(loc = 'lower right')\n",
    "plt.plot([0, 1], [0, 1],'r--')\n",
    "plt.xlim([0, 1])\n",
    "plt.ylim([0, 1])\n",
    "plt.ylabel('True Positive Rate')\n",
    "plt.xlabel('False Positive Rate')\n",
    "plt.show()"
   ]
  },
  {
   "cell_type": "code",
   "execution_count": 16,
   "metadata": {},
   "outputs": [
    {
     "data": {
      "image/png": "[encoded data removed]",
      "text/plain": [
       "<Figure size 432x288 with 1 Axes>"
      ]
     },
     "metadata": {
      "needs_background": "light"
     },
     "output_type": "display_data"
    }
   ],
   "source": [
    "plt.title('Comparison with Sklearn')\n",
    "plt.plot(fpr, tpr, 'b', label = 'Scratch AUC = %0.4f' % roc_auc)\n",
    "plt.plot(fpr_sk, tpr_sk, 'g', label = 'Sklearn AUC = %0.4f' % roc_auc_sk)\n",
    "plt.legend(loc = 'lower right')\n",
    "plt.plot([0, 1], [0, 1],'r--')\n",
    "plt.xlim([0, 1])\n",
    "plt.ylim([0, 1])\n",
    "plt.ylabel('True Positive Rate')\n",
    "plt.xlabel('False Positive Rate')\n",
    "plt.show()"
   ]
  },
  {
   "cell_type": "code",
   "execution_count": null,
   "metadata": {},
   "outputs": [],
   "source": []
  }
 ],
 "metadata": {
  "kernelspec": {
   "display_name": "Python 3",
   "language": "python",
   "name": "python3"
  },
  "language_info": {
   "codemirror_mode": {
    "name": "ipython",
    "version": 3
   },
   "file_extension": ".py",
   "mimetype": "text/x-python",
   "name": "python",
   "nbconvert_exporter": "python",
   "pygments_lexer": "ipython3",
   "version": "3.7.4"
  }
 },
 "nbformat": 4,
 "nbformat_minor": 2
}
